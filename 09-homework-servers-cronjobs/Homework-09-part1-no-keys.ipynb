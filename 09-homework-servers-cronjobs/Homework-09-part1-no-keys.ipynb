{
 "cells": [
  {
   "cell_type": "code",
   "execution_count": 1,
   "metadata": {},
   "outputs": [],
   "source": [
    "import requests\n",
    "import datetime"
   ]
  },
  {
   "cell_type": "code",
   "execution_count": 2,
   "metadata": {},
   "outputs": [],
   "source": [
    "response = requests.get('https://api.darksky.net/forecast/APIKEY/40.7128,-74.0060')\n",
    "data = response.json()"
   ]
  },
  {
   "cell_type": "code",
   "execution_count": 3,
   "metadata": {},
   "outputs": [],
   "source": [
    "dailyforecast = data['daily']"
   ]
  },
  {
   "cell_type": "markdown",
   "metadata": {},
   "source": [
    "Right now it is TEMPERATURE degrees out and SUMMARY. Today will be TEMP_FEELING with a high of HIGH_TEMP and a low of LOW_TEMP. RAIN_WARNING."
   ]
  },
  {
   "cell_type": "code",
   "execution_count": 4,
   "metadata": {},
   "outputs": [
    {
     "name": "stdout",
     "output_type": "stream",
     "text": [
      "Right now it is 86.43 degrees out and Partly Cloudy.\n",
      "Today will be hot with a high of 87.96 and a low of 68.14\n",
      "Bring your umbrella!\n"
     ]
    }
   ],
   "source": [
    "print(\"Right now it is\", data['currently']['temperature'], \"degrees out and\", data['currently']['summary']+\".\")\n",
    "if dailyforecast['data'][0]['temperatureHigh'] > 80:\n",
    "    print(\"Today will be hot\", \"with a high of\", dailyforecast['data'][0]['temperatureHigh'], \"and a low of\", dailyforecast['data'][0]['temperatureLow'])\n",
    "elif dailyforecast['data'][0]['temperatureHigh'] > 65:\n",
    "    print(print(\"Today will be warm\", \"with a high of\", dailyforecast['data'][0]['temperatureHigh'], \"and a low of\", dailyforecast['data'][0]['temperatureLow']))\n",
    "elif dailyforecast['data'][0]['temperatureHigh'] > 55: \n",
    "    print(\"Today will be cool\", \"with a high of\", dailyforecast['data'][0]['temperatureHigh'], \"and a low of\", dailyforecast['data'][0]['temperatureLow'])\n",
    "else:\n",
    "    print(\"Today will be cold\", \"with a high of\", dailyforecast['data'][0]['temperatureHigh'], \"and a low of\", dailyforecast['data'][0]['temperatureLow'])\n",
    "    \n",
    "if dailyforecast['data'][0]['precipType'] == \"rain\":\n",
    "    print(\"Bring your umbrella!\")\n",
    "else:\n",
    "    print(\"Don't bring your umbrella.\")"
   ]
  },
  {
   "cell_type": "code",
   "execution_count": 5,
   "metadata": {},
   "outputs": [],
   "source": [
    "current = \"Right now it is\" + \" \" + str(data['currently']['temperature']) + \" \" + \"degrees out and\" + \" \" + str(data['currently']['summary'])+\".\"\n",
    "\n",
    "specifics = ''\n",
    "if dailyforecast['data'][0]['temperatureHigh'] > 80:\n",
    "    specifics = \"Today will be hot\" + \" \" + \"with a high of\" + \" \" + str(dailyforecast['data'][0]['temperatureHigh']) + \" \" + \"and a low of\" + \" \" + str(dailyforecast['data'][0]['temperatureLow'])+\".\"\n",
    "elif dailyforecast['data'][0]['temperatureHigh'] > 65:\n",
    "    specifics = \"Today will be warm\" + \" \" + \"with a high of\" + \" \" + str(dailyforecast['data'][0]['temperatureHigh']) + \" \" + \"and a low of\" + \" \" + str(dailyforecast['data'][0]['temperatureLow'])+\".\"\n",
    "elif dailyforecast['data'][0]['temperatureHigh'] > 55: \n",
    "    specifics = \"Today will be cool\" + \" \" + \"with a high of\" + \" \" + str(dailyforecast['data'][0]['temperatureHigh']) + \" \" + \"and a low of\" + \" \" + str(dailyforecast['data'][0]['temperatureLow'])+\".\"\n",
    "else:\n",
    "    specifics = \"Today will be cold\" + \" \" + \"with a high of\" + \" \" + str(dailyforecast['data'][0]['temperatureHigh']) + \" \" + \"and a low of\" + \" \" + str(dailyforecast['data'][0]['temperatureLow'])+\".\"\n",
    "\n",
    "rain = \"\"\n",
    "if dailyforecast['data'][0]['precipType'] == \"rain\":\n",
    "    rain = \"Bring your umbrella, because it will probably rain at some point.\"\n",
    "else:\n",
    "    rain = \"Don't bring your umbrella.\"\n",
    "#print(type(current))"
   ]
  },
  {
   "cell_type": "code",
   "execution_count": 6,
   "metadata": {},
   "outputs": [
    {
     "name": "stdout",
     "output_type": "stream",
     "text": [
      "<class 'str'>\n",
      "\n",
      "At 14:00 it will be 85.71 degrees.\n",
      "At 15:00 it will be 87.09 degrees.\n",
      "At 16:00 it will be 87.96 degrees.\n",
      "At 17:00 it will be 87.75 degrees.\n",
      "At 18:00 it will be 86.82 degrees.\n",
      "At 19:00 it will be 84.94 degrees.\n",
      "At 20:00 it will be 82.47 degrees.\n",
      "At 21:00 it will be 79.6 degrees.\n",
      "At 22:00 it will be 77.3 degrees.\n",
      "At 23:00 it will be 75.26 degrees.\n",
      "At 00:00 it will be 73.67 degrees.\n",
      "At 01:00 it will be 72.41 degrees.\n",
      "At 02:00 it will be 71.19 degrees.\n",
      "At 03:00 it will be 69.98 degrees.\n",
      "At 04:00 it will be 69.64 degrees and cloudy.\n",
      "At 05:00 it will be 68.84 degrees and cloudy.\n",
      "At 06:00 it will be 68.14 degrees.\n",
      "At 07:00 it will be 68.88 degrees and cloudy.\n",
      "At 08:00 it will be 70.24 degrees and cloudy.\n",
      "At 09:00 it will be 71.97 degrees and cloudy.\n",
      "At 10:00 it will be 73.97 degrees and cloudy.\n",
      "At 11:00 it will be 76.22 degrees and cloudy.\n",
      "At 12:00 it will be 78.45 degrees.\n",
      "At 13:00 it will be 80.14 degrees.\n",
      "At 14:00 it will be 80.9 degrees.\n",
      "At 15:00 it will be 80.06 degrees and cloudy.\n",
      "At 16:00 it will be 78.64 degrees and cloudy.\n",
      "At 17:00 it will be 76.56 degrees and cloudy.\n",
      "At 18:00 it will be 75.63 degrees and cloudy.\n",
      "At 19:00 it will be 74.12 degrees and cloudy.\n",
      "At 20:00 it will be 72.46 degrees and cloudy.\n",
      "At 21:00 it will be 71.19 degrees and cloudy.\n",
      "At 22:00 it will be 70.41 degrees and cloudy.\n",
      "At 23:00 it will be 69.48 degrees and cloudy.\n",
      "At 00:00 it will be 68.34 degrees and cloudy.\n",
      "At 01:00 it will be 67.38 degrees and cloudy.\n",
      "At 02:00 it will be 66.55 degrees and cloudy.\n",
      "At 03:00 it will be 66.05 degrees and cloudy.\n",
      "At 04:00 it will be 65.42 degrees and cloudy.\n",
      "At 05:00 it will be 65.04 degrees and cloudy.\n",
      "At 06:00 it will be 64.45 degrees and cloudy.\n",
      "At 07:00 it will be 64.76 degrees and cloudy.\n",
      "At 08:00 it will be 65.79 degrees and cloudy.\n",
      "At 09:00 it will be 68.15 degrees and cloudy.\n",
      "At 10:00 it will be 70.55 degrees and cloudy.\n",
      "At 11:00 it will be 73.3 degrees and cloudy.\n",
      "At 12:00 it will be 75.68 degrees and cloudy.\n",
      "At 13:00 it will be 77.59 degrees.\n",
      "At 14:00 it will be 79.3 degrees.\n"
     ]
    }
   ],
   "source": [
    "#Bonus\n",
    "hourlyforecast = data['hourly']\n",
    "rest_of_day = ''\n",
    "for hour in hourlyforecast['data']:\n",
    "    if hour['cloudCover'] > 0.5:\n",
    "        rest_of_day = rest_of_day + \"\\nAt\"+ \" \" + str(datetime.datetime.fromtimestamp(\n",
    "        int(hour['time'])\n",
    "    ).strftime('%H:%M')) + \" \" + \"it will be\" + \" \" + str(hour['temperature']) + \" \" + \"degrees and cloudy.\"\n",
    "    else:\n",
    "        rest_of_day = rest_of_day + \"\\nAt\" + \" \" + str(datetime.datetime.fromtimestamp(\n",
    "        int(hour['time'])\n",
    "    ).strftime('%H:%M')) + \" \" + \"it will be\" + \" \" + str(hour['temperature']) + \" \" + \"degrees.\"\n",
    "print(type(rest_of_day))\n",
    "print(rest_of_day)"
   ]
  },
  {
   "cell_type": "code",
   "execution_count": 7,
   "metadata": {},
   "outputs": [
    {
     "name": "stdout",
     "output_type": "stream",
     "text": [
      "2018-06-19 14:31:05.505096\n",
      "2018-06\n",
      "2:31PM\n",
      "Jun 19, 2018\n"
     ]
    }
   ],
   "source": [
    "right_now = datetime.datetime.now()\n",
    "date_string = right_now.strftime(\"%Y-%m\")\n",
    "print(right_now)\n",
    "print(date_string)\n",
    "\n",
    "time = right_now.strftime(\"%-I:%-M%p\")\n",
    "print(time)\n",
    "date = right_now.strftime(\"%b %d, %Y\")\n",
    "print(date)"
   ]
  },
  {
   "cell_type": "code",
   "execution_count": 8,
   "metadata": {},
   "outputs": [
    {
     "data": {
      "text/plain": [
       "'{\\n  \"id\": \"<20180619183105.1.3D05D60FEB503562@sandbox6828290367e84edd8948e4975083acfd.mailgun.org>\",\\n  \"message\": \"Queued. Thank you.\"\\n}'"
      ]
     },
     "execution_count": 8,
     "metadata": {},
     "output_type": "execute_result"
    }
   ],
   "source": [
    "response2 = requests.post(\n",
    "        \"https://api.mailgun.net/v3/sandbox6828290367e84edd8948e4975083acfd.mailgun.org/messages\",\n",
    "        auth=(\"api\", \"APIKEY\"),\n",
    "        data={\"from\": \"Worst Weatherman <amw2262@columbia.edu>\",\n",
    "              \"to\": [\"amw2262@columbia.edu\"],\n",
    "              \"subject\": datetime.datetime.now().strftime(\"%-I:%M%p\") + \" \" + \"weather forecast:\" +\" \"+ datetime.datetime.now().strftime(\"%b %d, %Y\"),\n",
    "              \"text\": current + \" \" + specifics + \" \" + rain + \"\\n\" + rest_of_day}) \n",
    "response2.text"
   ]
  },
  {
   "cell_type": "code",
   "execution_count": null,
   "metadata": {},
   "outputs": [],
   "source": []
  }
 ],
 "metadata": {
  "kernelspec": {
   "display_name": "Python 3",
   "language": "python",
   "name": "python3"
  },
  "language_info": {
   "codemirror_mode": {
    "name": "ipython",
    "version": 3
   },
   "file_extension": ".py",
   "mimetype": "text/x-python",
   "name": "python",
   "nbconvert_exporter": "python",
   "pygments_lexer": "ipython3",
   "version": "3.6.5"
  }
 },
 "nbformat": 4,
 "nbformat_minor": 2
}
