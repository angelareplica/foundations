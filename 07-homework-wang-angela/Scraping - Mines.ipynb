{
 "cells": [
  {
   "cell_type": "markdown",
   "metadata": {},
   "source": [
    "# Mine Safety\n",
    "\n",
    "We're interested in [US mine safety](https://arlweb.msha.gov/drs/drshome.htm), thank goodness we can search for these things."
   ]
  },
  {
   "cell_type": "markdown",
   "metadata": {},
   "source": [
    "## Setup: Import what you'll need to search and scrape and Selenium"
   ]
  },
  {
   "cell_type": "code",
   "execution_count": 1,
   "metadata": {},
   "outputs": [],
   "source": [
    "from selenium import webdriver\n",
    "from selenium.webdriver.common.keys import Keys\n",
    "from selenium.webdriver.support.ui import Select\n",
    "from selenium.webdriver.support.ui import WebDriverWait"
   ]
  },
  {
   "cell_type": "markdown",
   "metadata": {},
   "source": [
    "## Starting from `https://arlweb.msha.gov/drs/drshome.htm`, search for every operator with 'dirt' in their name, including abandoned mines.\n",
    "\n",
    "> - *Tip: If you can't make an element work using name, class or ID, try to use the XPath*"
   ]
  },
  {
   "cell_type": "code",
   "execution_count": 2,
   "metadata": {},
   "outputs": [],
   "source": [
    "driver = webdriver.Chrome()"
   ]
  },
  {
   "cell_type": "code",
   "execution_count": 3,
   "metadata": {},
   "outputs": [],
   "source": [
    "driver.get(\"https://arlweb.msha.gov/drs/drshome.htm\")"
   ]
  },
  {
   "cell_type": "code",
   "execution_count": 5,
   "metadata": {},
   "outputs": [],
   "source": [
    "opname_input = driver.find_element_by_name('OperSearch')\n",
    "driver.execute_script(\"arguments[0].scrollIntoView(true)\", opname_input)"
   ]
  },
  {
   "cell_type": "code",
   "execution_count": 6,
   "metadata": {},
   "outputs": [],
   "source": [
    "opname_input.send_keys(\"dirt\")"
   ]
  },
  {
   "cell_type": "code",
   "execution_count": 7,
   "metadata": {},
   "outputs": [],
   "source": [
    "button = driver.find_element_by_xpath('//*[@id=\"content\"]/form[1]/table/tbody/tr[7]/td[3]/input[1]')\n",
    "button.click()"
   ]
  },
  {
   "cell_type": "markdown",
   "metadata": {},
   "source": [
    "## Scrape the results page, saving it as `dirt-operators.csv`\n",
    "\n",
    "> - *Tip: Think about what each row in your dataset will be, and start by looping through that*\n",
    "> - *Tip: Printing is cool and good! Print everything! Move it into a dictionary later.*\n",
    "> - *Tip: If you don't want a row, think about what's in the row that makes it different. You can use an `if` statement or list slicing to skip the ones you aren't interested in.*\n",
    "> - *Tip: Make sure your dictionary and your loop variable have DIFFERENT NAMES*\n",
    "> - *Tip: After you've made your dictionary (and printed it, of course), you'll want to add it to your list of rows*\n",
    "> - *Tip: Be sure to import pandas to convert it to a dataframe*\n",
    "> - *Tip: Make sure you don't include the index when saving your dataframe*"
   ]
  },
  {
   "cell_type": "markdown",
   "metadata": {},
   "source": [
    "### Hopefully you know that each `tr` is supposed to be a row of your data. What is the index of the first row element that is actually a result?\n",
    "\n",
    "> - *Tip: `.text` will help you here.*\n",
    "> - *Tip: You aren't interesting in annotations or anything, just mines and where they are from*\n",
    "> - *Tip: Using `print(\"-----\")` will help you keep track of different rows*\n",
    "> - *Tip: If you have a list called `animals`, `animals[2:]` will skip the first two and start with the third. You can use this to skip ahead to the 'good' data if you want*"
   ]
  },
  {
   "cell_type": "code",
   "execution_count": 21,
   "metadata": {},
   "outputs": [
    {
     "name": "stdout",
     "output_type": "stream",
     "text": [
      "------------------\n",
      "3503598\n",
      "OR  Newberg Rock & Dirt   Newberg Rock & Dirt Surface M  Active  Crushed, Broken Stone NEC \n",
      "------------------\n",
      "1401575\n",
      "KS  Bender Sand & Dirt   BENDER SAND & DIRT Surface M  Intermittent  Construction Sand and Gravel \n",
      "------------------\n",
      "5001797\n",
      "AK  Dirt Company   Bush Pilot Surface M  Intermittent  Construction Sand and Gravel \n",
      "------------------\n",
      "2103723\n",
      "MN  Dirt Doctor Inc   Rock Lake Plant Surface M  Intermittent  Construction Sand and Gravel \n",
      "------------------\n",
      "2103914\n",
      "MN  Dirt Work Specialists LLC   Astec Plant Surface M  Intermittent  Construction Sand and Gravel \n",
      "------------------\n",
      "4104757\n",
      "TX  Dirt Works   Portable #1 Surface M  Intermittent  Construction Sand and Gravel \n",
      "------------------\n",
      "0801306\n",
      "FL  Holley Dirt Company, Inc   River Road Pit Surface M  Active  Sand, Common \n",
      "------------------\n",
      "3901432\n",
      "SD  Krueger Brothers Gravel & Dirt   PORTABLE SCREENER Surface M  Intermittent  Construction Sand and Gravel \n",
      "------------------\n",
      "3609624\n",
      "PA  M R Dirt   Forbes Pit Surface M  Temporarily Idled  Construction Sand and Gravel \n",
      "------------------\n",
      "3609931\n",
      "PA  M.R. Dirt Inc.   Camptown Quarry Surface M  Intermittent  Dimension Stone NEC \n",
      "------------------\n",
      "1519799\n",
      "KY  P B Dirt Movers, Inc   Fedscreek Surface Surface C  Active  Coal (Bituminous) \n",
      "------------------\n",
      "4407379\n",
      "VA  P B Dirt Movers, Inc.   No. 3 Surface C  New Mine   \n",
      "------------------\n",
      "4407296\n",
      "VA  PB Dirt Movers   Mine No. 6 Underground C  Temporarily Idled  Coal (Bituminous) \n",
      "------------------\n",
      "0203332\n",
      "AZ  Prescott Dirt, LLC   Sandretto Drive Surface M  Intermittent  Construction Sand and Gravel \n",
      "------------------\n",
      "2901986\n",
      "NM  R D Blankenship Dirt Work LLC   R D BLANKENSHIP DIRT WORK Surface M  Active  Construction Sand and Gravel \n",
      "------------------\n",
      "0801417\n",
      "FL  Sand & Dirt, Inc   Molino Pit Surface M  Active  Sand, Common \n",
      "------------------\n",
      "4300768\n",
      "VT  SIMPSON DIRTWORX LLC   Pettibone Jaw Crusher Surface M  Intermittent  Construction Sand and Gravel \n",
      "------------------\n",
      "4300776\n",
      "VT  SIMPSON DIRTWORX LLC   Chieftan 1400 Surface M  Intermittent  Construction Sand and Gravel \n",
      "------------------\n",
      "2302283\n",
      "MO  Spry's Dirt & Gravel, Inc.   Mike's Money Pit Surface M  Intermittent  Construction Sand and Gravel \n",
      "------------------\n",
      "2103518\n",
      "MN  Vogt Dirt Service   Crusher Surface M  Intermittent  Construction Sand and Gravel \n",
      "------------------\n",
      "Total Number of Mines Found:  20\n"
     ]
    }
   ],
   "source": [
    "operators = driver.find_elements_by_tag_name('tr')\n",
    "for operator in operators[7:]:\n",
    "    print('------------------')\n",
    "    print(operator.text)\n"
   ]
  },
  {
   "cell_type": "code",
   "execution_count": null,
   "metadata": {},
   "outputs": [],
   "source": []
  },
  {
   "cell_type": "markdown",
   "metadata": {},
   "source": [
    "### Loop through each operator result, printing its name\n",
    "\n",
    "> - *Tip: If you have a list called `animals`, `animals[2:]` will skip the first two and start with the third.*\n",
    "> - *Tip: You can use list slicing or an `if` statement to skip the non-data row(s). List slicing is probably easier, even if you aren't comfortable with it.*\n",
    "> - *Tip: or honestly you can use `try` and `except` if you know how it works.*\n",
    "> - *Tip: Once you have the \"right\" rows of data, you're going to be looking for a certain tag inside*\n",
    "> - *Tip: Sometimes you can't say \"give me this class,\" and instead you have to say \"give me all of the `div` elements, and then give me the third one.\"*"
   ]
  },
  {
   "cell_type": "code",
   "execution_count": 42,
   "metadata": {},
   "outputs": [
    {
     "name": "stdout",
     "output_type": "stream",
     "text": [
      "Newberg Rock & Dirt\n",
      "BENDER SAND & DIRT\n",
      "Bush Pilot\n",
      "Rock Lake Plant\n",
      "Astec Plant\n",
      "Portable #1\n",
      "River Road Pit\n",
      "PORTABLE SCREENER\n",
      "Forbes Pit\n",
      "Camptown Quarry\n",
      "Fedscreek Surface\n",
      "No. 3\n",
      "Mine No. 6\n",
      "Sandretto Drive\n",
      "R D BLANKENSHIP DIRT WORK\n",
      "Molino Pit\n",
      "Pettibone Jaw Crusher\n",
      "Chieftan 1400\n",
      "Mike's Money Pit\n",
      "Crusher\n"
     ]
    }
   ],
   "source": [
    "for operator in operators[7:-1]:\n",
    "    tds = operator.find_elements_by_tag_name('td')\n",
    "    print(tds[3].text)"
   ]
  },
  {
   "cell_type": "markdown",
   "metadata": {},
   "source": [
    "### Loop through each operator result, printing its ID\n",
    "\n",
    "There should be ONE code per row, and NO empty rows between them."
   ]
  },
  {
   "cell_type": "code",
   "execution_count": 44,
   "metadata": {},
   "outputs": [
    {
     "name": "stdout",
     "output_type": "stream",
     "text": [
      "3503598\n",
      "1401575\n",
      "5001797\n",
      "2103723\n",
      "2103914\n",
      "4104757\n",
      "0801306\n",
      "3901432\n",
      "3609624\n",
      "3609931\n",
      "1519799\n",
      "4407379\n",
      "4407296\n",
      "0203332\n",
      "2901986\n",
      "0801417\n",
      "4300768\n",
      "4300776\n",
      "2302283\n",
      "2103518\n"
     ]
    }
   ],
   "source": [
    "for operator in operators[7:-1]:\n",
    "    tds = operator.find_elements_by_tag_name('td')\n",
    "    print(tds[0].text)"
   ]
  },
  {
   "cell_type": "markdown",
   "metadata": {},
   "source": [
    "## Saving the results\n",
    "\n",
    "### Loop through each `tr` to create a list of dictionaries\n",
    "\n",
    "Each dictionary must contain\n",
    "\n",
    "- Operator ID\n",
    "- Operator name\n",
    "- Mine name\n",
    "- State\n",
    "- Mine type\n",
    "- Coal or metal\n",
    "- Status\n",
    "- Commodity\n",
    "\n",
    "Create a new dictionary for each row.\n",
    "\n",
    "> - *Tip: Start with an empty dictionary, then add the keys one at a time like we did during class*\n",
    "> - *Tip: You might want to save all of the cells in a variable, then use indexes to get the second, third, fourth, etc.*\n",
    "> - *Tip: I know you already skipped a bunch of rows already, but one of them still might be bad! Which one is it? How can you skip it? You might need to slice out some of the end of your list, too. Use `print` to help you debug, or just look at the page closely.*\n",
    "> - *Tip: Or, if you did the other homework already, `try` / `except` is also an option*"
   ]
  },
  {
   "cell_type": "code",
   "execution_count": 49,
   "metadata": {
    "scrolled": true
   },
   "outputs": [
    {
     "data": {
      "text/plain": [
       "[{'ID': '3503598',\n",
       "  'State': 'OR ',\n",
       "  'Operator Name': 'Newberg Rock & Dirt  ',\n",
       "  'Mine Name': 'Newberg Rock & Dirt',\n",
       "  'Mine Type': 'Surface',\n",
       "  'Coal or Metal': 'M ',\n",
       "  'Status': 'Active ',\n",
       "  'Commodity': 'Crushed, Broken Stone NEC '},\n",
       " {'ID': '1401575',\n",
       "  'State': 'KS ',\n",
       "  'Operator Name': 'Bender Sand & Dirt  ',\n",
       "  'Mine Name': 'BENDER SAND & DIRT',\n",
       "  'Mine Type': 'Surface',\n",
       "  'Coal or Metal': 'M ',\n",
       "  'Status': 'Intermittent ',\n",
       "  'Commodity': 'Construction Sand and Gravel '},\n",
       " {'ID': '5001797',\n",
       "  'State': 'AK ',\n",
       "  'Operator Name': 'Dirt Company  ',\n",
       "  'Mine Name': 'Bush Pilot',\n",
       "  'Mine Type': 'Surface',\n",
       "  'Coal or Metal': 'M ',\n",
       "  'Status': 'Intermittent ',\n",
       "  'Commodity': 'Construction Sand and Gravel '},\n",
       " {'ID': '2103723',\n",
       "  'State': 'MN ',\n",
       "  'Operator Name': 'Dirt Doctor Inc  ',\n",
       "  'Mine Name': 'Rock Lake Plant',\n",
       "  'Mine Type': 'Surface',\n",
       "  'Coal or Metal': 'M ',\n",
       "  'Status': 'Intermittent ',\n",
       "  'Commodity': 'Construction Sand and Gravel '},\n",
       " {'ID': '2103914',\n",
       "  'State': 'MN ',\n",
       "  'Operator Name': 'Dirt Work Specialists LLC  ',\n",
       "  'Mine Name': 'Astec Plant',\n",
       "  'Mine Type': 'Surface',\n",
       "  'Coal or Metal': 'M ',\n",
       "  'Status': 'Intermittent ',\n",
       "  'Commodity': 'Construction Sand and Gravel '},\n",
       " {'ID': '4104757',\n",
       "  'State': 'TX ',\n",
       "  'Operator Name': 'Dirt Works  ',\n",
       "  'Mine Name': 'Portable #1',\n",
       "  'Mine Type': 'Surface',\n",
       "  'Coal or Metal': 'M ',\n",
       "  'Status': 'Intermittent ',\n",
       "  'Commodity': 'Construction Sand and Gravel '},\n",
       " {'ID': '0801306',\n",
       "  'State': 'FL ',\n",
       "  'Operator Name': 'Holley Dirt Company, Inc  ',\n",
       "  'Mine Name': 'River Road Pit',\n",
       "  'Mine Type': 'Surface',\n",
       "  'Coal or Metal': 'M ',\n",
       "  'Status': 'Active ',\n",
       "  'Commodity': 'Sand, Common '},\n",
       " {'ID': '3901432',\n",
       "  'State': 'SD ',\n",
       "  'Operator Name': 'Krueger Brothers Gravel & Dirt  ',\n",
       "  'Mine Name': 'PORTABLE SCREENER',\n",
       "  'Mine Type': 'Surface',\n",
       "  'Coal or Metal': 'M ',\n",
       "  'Status': 'Intermittent ',\n",
       "  'Commodity': 'Construction Sand and Gravel '},\n",
       " {'ID': '3609624',\n",
       "  'State': 'PA ',\n",
       "  'Operator Name': 'M R Dirt  ',\n",
       "  'Mine Name': 'Forbes Pit',\n",
       "  'Mine Type': 'Surface',\n",
       "  'Coal or Metal': 'M ',\n",
       "  'Status': 'Temporarily Idled ',\n",
       "  'Commodity': 'Construction Sand and Gravel '},\n",
       " {'ID': '3609931',\n",
       "  'State': 'PA ',\n",
       "  'Operator Name': 'M.R. Dirt Inc.  ',\n",
       "  'Mine Name': 'Camptown Quarry',\n",
       "  'Mine Type': 'Surface',\n",
       "  'Coal or Metal': 'M ',\n",
       "  'Status': 'Intermittent ',\n",
       "  'Commodity': 'Dimension Stone NEC '},\n",
       " {'ID': '1519799',\n",
       "  'State': 'KY ',\n",
       "  'Operator Name': 'P B Dirt Movers, Inc  ',\n",
       "  'Mine Name': 'Fedscreek Surface',\n",
       "  'Mine Type': 'Surface',\n",
       "  'Coal or Metal': 'C ',\n",
       "  'Status': 'Active ',\n",
       "  'Commodity': 'Coal (Bituminous) '},\n",
       " {'ID': '4407379',\n",
       "  'State': 'VA ',\n",
       "  'Operator Name': 'P B Dirt Movers, Inc.  ',\n",
       "  'Mine Name': 'No. 3',\n",
       "  'Mine Type': 'Surface',\n",
       "  'Coal or Metal': 'C ',\n",
       "  'Status': 'New Mine ',\n",
       "  'Commodity': ' '},\n",
       " {'ID': '4407296',\n",
       "  'State': 'VA ',\n",
       "  'Operator Name': 'PB Dirt Movers  ',\n",
       "  'Mine Name': 'Mine No. 6',\n",
       "  'Mine Type': 'Underground',\n",
       "  'Coal or Metal': 'C ',\n",
       "  'Status': 'Temporarily Idled ',\n",
       "  'Commodity': 'Coal (Bituminous) '},\n",
       " {'ID': '0203332',\n",
       "  'State': 'AZ ',\n",
       "  'Operator Name': 'Prescott Dirt, LLC  ',\n",
       "  'Mine Name': 'Sandretto Drive',\n",
       "  'Mine Type': 'Surface',\n",
       "  'Coal or Metal': 'M ',\n",
       "  'Status': 'Intermittent ',\n",
       "  'Commodity': 'Construction Sand and Gravel '},\n",
       " {'ID': '2901986',\n",
       "  'State': 'NM ',\n",
       "  'Operator Name': 'R D Blankenship Dirt Work LLC  ',\n",
       "  'Mine Name': 'R D BLANKENSHIP DIRT WORK',\n",
       "  'Mine Type': 'Surface',\n",
       "  'Coal or Metal': 'M ',\n",
       "  'Status': 'Active ',\n",
       "  'Commodity': 'Construction Sand and Gravel '},\n",
       " {'ID': '0801417',\n",
       "  'State': 'FL ',\n",
       "  'Operator Name': 'Sand & Dirt, Inc  ',\n",
       "  'Mine Name': 'Molino Pit',\n",
       "  'Mine Type': 'Surface',\n",
       "  'Coal or Metal': 'M ',\n",
       "  'Status': 'Active ',\n",
       "  'Commodity': 'Sand, Common '},\n",
       " {'ID': '4300768',\n",
       "  'State': 'VT ',\n",
       "  'Operator Name': 'SIMPSON DIRTWORX LLC  ',\n",
       "  'Mine Name': 'Pettibone Jaw Crusher',\n",
       "  'Mine Type': 'Surface',\n",
       "  'Coal or Metal': 'M ',\n",
       "  'Status': 'Intermittent ',\n",
       "  'Commodity': 'Construction Sand and Gravel '},\n",
       " {'ID': '4300776',\n",
       "  'State': 'VT ',\n",
       "  'Operator Name': 'SIMPSON DIRTWORX LLC  ',\n",
       "  'Mine Name': 'Chieftan 1400',\n",
       "  'Mine Type': 'Surface',\n",
       "  'Coal or Metal': 'M ',\n",
       "  'Status': 'Intermittent ',\n",
       "  'Commodity': 'Construction Sand and Gravel '},\n",
       " {'ID': '2302283',\n",
       "  'State': 'MO ',\n",
       "  'Operator Name': \"Spry's Dirt & Gravel, Inc.  \",\n",
       "  'Mine Name': \"Mike's Money Pit\",\n",
       "  'Mine Type': 'Surface',\n",
       "  'Coal or Metal': 'M ',\n",
       "  'Status': 'Intermittent ',\n",
       "  'Commodity': 'Construction Sand and Gravel '},\n",
       " {'ID': '2103518',\n",
       "  'State': 'MN ',\n",
       "  'Operator Name': 'Vogt Dirt Service  ',\n",
       "  'Mine Name': 'Crusher',\n",
       "  'Mine Type': 'Surface',\n",
       "  'Coal or Metal': 'M ',\n",
       "  'Status': 'Intermittent ',\n",
       "  'Commodity': 'Construction Sand and Gravel '}]"
      ]
     },
     "execution_count": 49,
     "metadata": {},
     "output_type": "execute_result"
    }
   ],
   "source": [
    "dirt_operators = []\n",
    "\n",
    "for operator in operators[7:-1]:\n",
    "    \n",
    "    dirt_operator = {}\n",
    "    \n",
    "    tds = operator.find_elements_by_tag_name('td')\n",
    "    \n",
    "    ids = tds[0]\n",
    "    dirt_operator['ID'] = ids.text\n",
    "    \n",
    "    states = tds[1]\n",
    "    dirt_operator['State'] = states.text\n",
    "    \n",
    "    operator_names = tds[2]\n",
    "    dirt_operator['Operator Name'] = operator_names.text\n",
    "    \n",
    "    mine_names = tds[3]\n",
    "    dirt_operator['Mine Name'] = mine_names.text\n",
    "    \n",
    "    mine_types = tds[4]\n",
    "    dirt_operator['Mine Type'] = mine_types.text\n",
    "    \n",
    "    cm = tds[5]\n",
    "    dirt_operator['Coal or Metal'] = cm.text\n",
    "    \n",
    "    statuses = tds[6]\n",
    "    dirt_operator['Status'] = statuses.text\n",
    "    \n",
    "    commodities = tds[7]\n",
    "    dirt_operator['Commodity'] = commodities.text\n",
    "     \n",
    "    dirt_operators.append(dirt_operator)\n",
    "    \n",
    "dirt_operators\n"
   ]
  },
  {
   "cell_type": "markdown",
   "metadata": {},
   "source": [
    "### Save that to a CSV named `dirt-operators.csv`"
   ]
  },
  {
   "cell_type": "code",
   "execution_count": 55,
   "metadata": {},
   "outputs": [],
   "source": [
    "import pandas as pd\n",
    "\n",
    "df = pd.DataFrame(dirt_operators, columns=dirt_operator.keys())"
   ]
  },
  {
   "cell_type": "code",
   "execution_count": 58,
   "metadata": {},
   "outputs": [],
   "source": [
    "df.to_csv(\"dirt-operators.csv\", index=False)"
   ]
  },
  {
   "cell_type": "code",
   "execution_count": null,
   "metadata": {},
   "outputs": [],
   "source": []
  },
  {
   "cell_type": "markdown",
   "metadata": {},
   "source": [
    "### Open the CSV file and examine the first few.\n",
    "\n",
    "Make sure you didn't save that extra weird unnamed index column."
   ]
  },
  {
   "cell_type": "code",
   "execution_count": 60,
   "metadata": {},
   "outputs": [
    {
     "data": {
      "text/html": [
       "<div>\n",
       "<style scoped>\n",
       "    .dataframe tbody tr th:only-of-type {\n",
       "        vertical-align: middle;\n",
       "    }\n",
       "\n",
       "    .dataframe tbody tr th {\n",
       "        vertical-align: top;\n",
       "    }\n",
       "\n",
       "    .dataframe thead th {\n",
       "        text-align: right;\n",
       "    }\n",
       "</style>\n",
       "<table border=\"1\" class=\"dataframe\">\n",
       "  <thead>\n",
       "    <tr style=\"text-align: right;\">\n",
       "      <th></th>\n",
       "      <th>ID</th>\n",
       "      <th>State</th>\n",
       "      <th>Operator Name</th>\n",
       "      <th>Mine Name</th>\n",
       "      <th>Mine Type</th>\n",
       "      <th>Coal or Metal</th>\n",
       "      <th>Status</th>\n",
       "      <th>Commodity</th>\n",
       "    </tr>\n",
       "  </thead>\n",
       "  <tbody>\n",
       "    <tr>\n",
       "      <th>0</th>\n",
       "      <td>3503598</td>\n",
       "      <td>OR</td>\n",
       "      <td>Newberg Rock &amp; Dirt</td>\n",
       "      <td>Newberg Rock &amp; Dirt</td>\n",
       "      <td>Surface</td>\n",
       "      <td>M</td>\n",
       "      <td>Active</td>\n",
       "      <td>Crushed, Broken Stone NEC</td>\n",
       "    </tr>\n",
       "    <tr>\n",
       "      <th>1</th>\n",
       "      <td>1401575</td>\n",
       "      <td>KS</td>\n",
       "      <td>Bender Sand &amp; Dirt</td>\n",
       "      <td>BENDER SAND &amp; DIRT</td>\n",
       "      <td>Surface</td>\n",
       "      <td>M</td>\n",
       "      <td>Intermittent</td>\n",
       "      <td>Construction Sand and Gravel</td>\n",
       "    </tr>\n",
       "    <tr>\n",
       "      <th>2</th>\n",
       "      <td>5001797</td>\n",
       "      <td>AK</td>\n",
       "      <td>Dirt Company</td>\n",
       "      <td>Bush Pilot</td>\n",
       "      <td>Surface</td>\n",
       "      <td>M</td>\n",
       "      <td>Intermittent</td>\n",
       "      <td>Construction Sand and Gravel</td>\n",
       "    </tr>\n",
       "    <tr>\n",
       "      <th>3</th>\n",
       "      <td>2103723</td>\n",
       "      <td>MN</td>\n",
       "      <td>Dirt Doctor Inc</td>\n",
       "      <td>Rock Lake Plant</td>\n",
       "      <td>Surface</td>\n",
       "      <td>M</td>\n",
       "      <td>Intermittent</td>\n",
       "      <td>Construction Sand and Gravel</td>\n",
       "    </tr>\n",
       "    <tr>\n",
       "      <th>4</th>\n",
       "      <td>2103914</td>\n",
       "      <td>MN</td>\n",
       "      <td>Dirt Work Specialists LLC</td>\n",
       "      <td>Astec Plant</td>\n",
       "      <td>Surface</td>\n",
       "      <td>M</td>\n",
       "      <td>Intermittent</td>\n",
       "      <td>Construction Sand and Gravel</td>\n",
       "    </tr>\n",
       "  </tbody>\n",
       "</table>\n",
       "</div>"
      ],
      "text/plain": [
       "        ID State                Operator Name            Mine Name Mine Type  \\\n",
       "0  3503598   OR         Newberg Rock & Dirt    Newberg Rock & Dirt   Surface   \n",
       "1  1401575   KS          Bender Sand & Dirt     BENDER SAND & DIRT   Surface   \n",
       "2  5001797   AK                Dirt Company             Bush Pilot   Surface   \n",
       "3  2103723   MN             Dirt Doctor Inc        Rock Lake Plant   Surface   \n",
       "4  2103914   MN   Dirt Work Specialists LLC            Astec Plant   Surface   \n",
       "\n",
       "  Coal or Metal         Status                      Commodity  \n",
       "0            M         Active      Crushed, Broken Stone NEC   \n",
       "1            M   Intermittent   Construction Sand and Gravel   \n",
       "2            M   Intermittent   Construction Sand and Gravel   \n",
       "3            M   Intermittent   Construction Sand and Gravel   \n",
       "4            M   Intermittent   Construction Sand and Gravel   "
      ]
     },
     "execution_count": 60,
     "metadata": {},
     "output_type": "execute_result"
    }
   ],
   "source": [
    "df = pd.read_csv(\"dirt-operators.csv\")\n",
    "df.head()"
   ]
  },
  {
   "cell_type": "code",
   "execution_count": null,
   "metadata": {},
   "outputs": [],
   "source": []
  }
 ],
 "metadata": {
  "kernelspec": {
   "display_name": "Python 3",
   "language": "python",
   "name": "python3"
  },
  "language_info": {
   "codemirror_mode": {
    "name": "ipython",
    "version": 3
   },
   "file_extension": ".py",
   "mimetype": "text/x-python",
   "name": "python",
   "nbconvert_exporter": "python",
   "pygments_lexer": "ipython3",
   "version": "3.6.5"
  }
 },
 "nbformat": 4,
 "nbformat_minor": 2
}
